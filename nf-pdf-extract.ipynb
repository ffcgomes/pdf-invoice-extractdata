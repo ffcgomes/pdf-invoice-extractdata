{
 "cells": [
  {
   "cell_type": "code",
   "execution_count": 14,
   "id": "8a0d6a8b",
   "metadata": {},
   "outputs": [],
   "source": [
    "import os\n",
    "import pdfplumber\n",
    "import pandas as pd\n",
    "import promptlib"
   ]
  },
  {
   "cell_type": "code",
   "execution_count": 15,
   "id": "a21f5849",
   "metadata": {},
   "outputs": [],
   "source": [
    "#Procura o arquivo na pasta específica\n",
    "prompter = promptlib.Files()\n",
    "file = prompter.file()\n"
   ]
  },
  {
   "cell_type": "code",
   "execution_count": 16,
   "id": "f8091983",
   "metadata": {},
   "outputs": [],
   "source": [
    "#Abre o arquivo pdf com pdfplumber\n",
    "pdf = pdfplumber.open(file)\n",
    "#Lê a primeira página\n",
    "page = pdf.pages[0]\n",
    "#extrai o texto da página\n",
    "text=page.extract_text()\n",
    "#Converte o texto em linhas\n",
    "lines = text.splitlines()\n",
    "#lines = text.split('\\n')\n",
    "#Cria listas para armazenar cada dado\n",
    "_nota,_data,_cnpj,_cod,_quant,_unit,_total,_icms,_aliq = [],[],[],[],[],[],[],[],[]"
   ]
  },
  {
   "cell_type": "code",
   "execution_count": 17,
   "id": "b4dbd526",
   "metadata": {},
   "outputs": [],
   "source": [
    "#Faz um loop em lines para capturar os dados\n",
    "for (i,item) in enumerate(lines):\n",
    "    #Captura cabeçário da Nota Fiscal\n",
    "    if item=='DESTINATÁRIO: NF-e Associacao NF-e':\n",
    "        nota = lines[i+1].split(' ')[1]\n",
    "    if item == 'NOME / RAZÃO SOCIAL CNPJ / CPF DATA DA EMISSÃO':\n",
    "        empresa = lines[i+1].split(' ')[:-2]\n",
    "        empresa = ' '.join(empresa)\n",
    "        cnpj = lines[i+1].split(' ')[-2]\n",
    "        data = lines[i+1].split(' ')[-1]\n",
    "    if item =='BASE DE CÁLCULO DO ICMS VALOR DO ICMS BASE DE CÁLCULO DO ICMS S.T. VALOR DO ICMS SUBSTITUIÇÃO VALOR DO PIS VALOR TOTAL DOS PRODUTOS':\n",
    "        base = lines[i+1].split(' ')[0]\n",
    "    if item =='CÓDIGO PRODUTO DESCRIÇÃO DO PRODUTO / SERVIÇO NCM/SH O/CST CFOP UN QUANT VUANLIOTR VTOATLAOLR BI.CCMÁLSC VIACLMOSR VAIPLIOR AICLMÍQS. AILPÍIQ.':\n",
    "        n=1\n",
    "        l= lines[i+n].split(' ')\n",
    "        cod= l[0]\n",
    "        #Captura itens da Nota Fiscal\n",
    "        while cod.isnumeric():\n",
    "            quant=l[-5]\n",
    "            unit=l[-4]\n",
    "            total = l[-3]\n",
    "            icms = l[-2]\n",
    "            aliq=l[-1]\n",
    "            #print(nota,data,cnpj,cod,quant,unit,total,icms,aliq)\n",
    "            _quant.append(quant)\n",
    "            _unit.append(unit)\n",
    "            _total.append(total)\n",
    "            _icms.append(icms)\n",
    "            _aliq.append(aliq)\n",
    "            _cnpj.append(cnpj)\n",
    "            _nota.append(nota)\n",
    "            _data.append(data)\n",
    "            _cod.append(cod)\n",
    "            n+=1\n",
    "            l= lines[i+n].split(' ')\n",
    "            cod= l[0]"
   ]
  },
  {
   "cell_type": "code",
   "execution_count": 18,
   "id": "fd37ded7",
   "metadata": {},
   "outputs": [
    {
     "data": {
      "text/html": [
       "<div><div id=d4369e4d-79ba-454a-b5d2-9fbe76ea69f4 style=\"display:none; background-color:#9D6CFF; color:white; width:200px; height:30px; padding-left:5px; border-radius:4px; flex-direction:row; justify-content:space-around; align-items:center;\" onmouseover=\"this.style.backgroundColor='#BA9BF8'\" onmouseout=\"this.style.backgroundColor='#9D6CFF'\" onclick=\"window.commands?.execute('create-mitosheet-from-dataframe-output');\">See Full Dataframe in Mito</div> <script> if (window.commands.hasCommand('create-mitosheet-from-dataframe-output')) document.getElementById('d4369e4d-79ba-454a-b5d2-9fbe76ea69f4').style.display = 'flex' </script> <table border=\"1\" class=\"dataframe\">\n",
       "  <thead>\n",
       "    <tr style=\"text-align: right;\">\n",
       "      <th></th>\n",
       "      <th>Nota</th>\n",
       "      <th>Data</th>\n",
       "      <th>CNPJ</th>\n",
       "      <th>Cod_Prod</th>\n",
       "      <th>Quant.</th>\n",
       "      <th>Vlr_Unit</th>\n",
       "      <th>Vlr_Total</th>\n",
       "      <th>ICMS</th>\n",
       "      <th>Aliq</th>\n",
       "    </tr>\n",
       "  </thead>\n",
       "  <tbody>\n",
       "    <tr>\n",
       "      <th>0</th>\n",
       "      <td>000.000.001</td>\n",
       "      <td>06/05/2008</td>\n",
       "      <td>00.000.000/0001-91</td>\n",
       "      <td>00001</td>\n",
       "      <td>1.000.000,00</td>\n",
       "      <td>1,0000</td>\n",
       "      <td>10.000.000,00</td>\n",
       "      <td>10.000.000,001.800.000,00</td>\n",
       "      <td>18</td>\n",
       "    </tr>\n",
       "    <tr>\n",
       "      <th>1</th>\n",
       "      <td>000.000.001</td>\n",
       "      <td>06/05/2008</td>\n",
       "      <td>00.000.000/0001-91</td>\n",
       "      <td>00002</td>\n",
       "      <td>5.000.000,00</td>\n",
       "      <td>2,0000</td>\n",
       "      <td>10.000.000,00</td>\n",
       "      <td>10.000.000,001.800.000,00</td>\n",
       "      <td>18</td>\n",
       "    </tr>\n",
       "  </tbody>\n",
       "</table></div>"
      ],
      "text/plain": [
       "          Nota        Data                CNPJ Cod_Prod        Quant.  \\\n",
       "0  000.000.001  06/05/2008  00.000.000/0001-91    00001  1.000.000,00   \n",
       "1  000.000.001  06/05/2008  00.000.000/0001-91    00002  5.000.000,00   \n",
       "\n",
       "  Vlr_Unit      Vlr_Total                       ICMS Aliq  \n",
       "0   1,0000  10.000.000,00  10.000.000,001.800.000,00   18  \n",
       "1   2,0000  10.000.000,00  10.000.000,001.800.000,00   18  "
      ]
     },
     "execution_count": 18,
     "metadata": {},
     "output_type": "execute_result"
    }
   ],
   "source": [
    "#Salva os dados em um dicionário e depois converte para um DataFrame\n",
    "dict={\"Nota\":_nota,\"Data\":_data,\"CNPJ\":_cnpj,\"Cod_Prod\":_cod,\"Quant.\":_quant,\"Vlr_Unit\":_unit,\"Vlr_Total\":_total,\"ICMS\":_icms,\"Aliq\":_aliq}\n",
    "df=pd.DataFrame.from_dict(dict,orient='index').transpose()\n",
    "df"
   ]
  }
 ],
 "metadata": {
  "kernelspec": {
   "display_name": "condaenv",
   "language": "python",
   "name": "condaenv"
  },
  "language_info": {
   "codemirror_mode": {
    "name": "ipython",
    "version": 3
   },
   "file_extension": ".py",
   "mimetype": "text/x-python",
   "name": "python",
   "nbconvert_exporter": "python",
   "pygments_lexer": "ipython3",
   "version": "3.8.12"
  }
 },
 "nbformat": 4,
 "nbformat_minor": 5
}
