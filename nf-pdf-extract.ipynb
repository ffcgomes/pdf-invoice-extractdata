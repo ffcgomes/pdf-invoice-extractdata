{
 "cells": [
  {
   "cell_type": "code",
   "execution_count": 2,
   "id": "8a0d6a8b",
   "metadata": {},
   "outputs": [],
   "source": [
    "import os\n",
    "import pdfplumber\n",
    "import pandas as pd\n",
    "import promptlib"
   ]
  },
  {
   "cell_type": "code",
   "execution_count": 4,
   "id": "a21f5849",
   "metadata": {},
   "outputs": [],
   "source": [
    "prompter = promptlib.Files()\n",
    "file = prompter.file()\n"
   ]
  },
  {
   "cell_type": "code",
   "execution_count": 8,
   "id": "e316c3df",
   "metadata": {},
   "outputs": [],
   "source": [
    "pdf = pdfplumber.open(file)"
   ]
  },
  {
   "cell_type": "code",
   "execution_count": 75,
   "id": "aa3b4f91",
   "metadata": {},
   "outputs": [
    {
     "name": "stdout",
     "output_type": "stream",
     "text": [
      "00001 1.000.000,00 1,0000 10.000.000,00 10.000.000,001.800.000,00 18\n",
      "00002 5.000.000,00 2,0000 10.000.000,00 10.000.000,001.800.000,00 18\n"
     ]
    }
   ],
   "source": [
    "page = pdf.pages[0]\n",
    "text=page.extract_text()\n",
    "lines = text.splitlines()\n",
    "for (i,item) in enumerate(lines):\n",
    "    #print(i,item)\n",
    "    if item == 'NOME / RAZÃO SOCIAL CNPJ / CPF DATA DA EMISSÃO':\n",
    "        empresa = lines[i+1].split(' ')[:-2]\n",
    "        empresa = ' '.join(empresa)\n",
    "        cnpj = lines[i+1].split(' ')[-2]\n",
    "        data = lines[i+1].split(' ')[-1]\n",
    "    \n",
    "    if item =='BASE DE CÁLCULO DO ICMS VALOR DO ICMS BASE DE CÁLCULO DO ICMS S.T. VALOR DO ICMS SUBSTITUIÇÃO VALOR DO PIS VALOR TOTAL DOS PRODUTOS':\n",
    "        base = lines[i+1].split(' ')[0]\n",
    "    if item =='CÓDIGO PRODUTO DESCRIÇÃO DO PRODUTO / SERVIÇO NCM/SH O/CST CFOP UN QUANT VUANLIOTR VTOATLAOLR BI.CCMÁLSC VIACLMOSR VAIPLIOR AICLMÍQS. AILPÍIQ.':\n",
    "        n=1\n",
    "        while n!=5:\n",
    "            l= lines[i+n].split(' ')\n",
    "            cod=l[0]\n",
    "            if cod.isnumeric():\n",
    "                quant=l[-5]\n",
    "                unit=l[-4]\n",
    "                total = l[-3]\n",
    "                icms = l[-2]\n",
    "                aliq_icms=l[-1]\n",
    "                print(cod,quant,unit,total,icms,aliq_icms)\n",
    "            else:\n",
    "                break\n",
    "            n+=1\n"
   ]
  },
  {
   "cell_type": "code",
   "execution_count": null,
   "id": "c8a91568",
   "metadata": {},
   "outputs": [],
   "source": []
  }
 ],
 "metadata": {
  "kernelspec": {
   "display_name": "condaenv",
   "language": "python",
   "name": "condaenv"
  },
  "language_info": {
   "codemirror_mode": {
    "name": "ipython",
    "version": 3
   },
   "file_extension": ".py",
   "mimetype": "text/x-python",
   "name": "python",
   "nbconvert_exporter": "python",
   "pygments_lexer": "ipython3",
   "version": "3.8.12"
  }
 },
 "nbformat": 4,
 "nbformat_minor": 5
}
